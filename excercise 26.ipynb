{
 "cells": [
  {
   "cell_type": "code",
   "execution_count": 4,
   "metadata": {},
   "outputs": [
    {
     "name": "stdout",
     "output_type": "stream",
     "text": [
      "enter first number:4\n",
      "enter second number:0\n",
      "division by zero error occured\n"
     ]
    }
   ],
   "source": [
    "#1.write a program to handle ZeroDivisionError which may arise when 2 numbers are being divided.\n",
    "try:\n",
    "    a=int(input(\"enter first number:\"))#to enter first number\n",
    "    b=int(input(\"enter second number:\"))#to enter second number\n",
    "    result=a/b #to calculate division and store in result\n",
    "    print(\"Result=\",result) #print result\n",
    "except ZeroDivisionError:\n",
    "    print(\"division by zero error occured\")#print the statement while dinominator is zero"
   ]
  },
  {
   "cell_type": "code",
   "execution_count": 4,
   "metadata": {},
   "outputs": [
    {
     "name": "stdout",
     "output_type": "stream",
     "text": [
      "enter a number:5\n",
      "The given value is small\n",
      "enter a number:21\n",
      "The value is large\n",
      "enter a number:20\n",
      "you guessed it right\n"
     ]
    }
   ],
   "source": [
    "'''3.create a userdefined exception valueTooSmallError and ValueLargeError when a user types a number\n",
    "larger than the given number respectively handle these error approximately'''\n",
    "\n",
    "class Error(Exception):\n",
    "    'Base class for other exception'\n",
    "    pass\n",
    "class valueTooSmallError(Error):\n",
    "    pass\n",
    "class valueTooLargeError(Error):\n",
    "    pass\n",
    "num=20\n",
    "while True:\n",
    "    try:\n",
    "        number=int(input(\"enter a number:\"))\n",
    "        if number<num:#to check whether number is less than num\n",
    "            raise valueTooSmallError\n",
    "        elif number>num:#check the number is greater than num\n",
    "            raise valueTooLargeError\n",
    "        break\n",
    "    except valueTooSmallError:\n",
    "        print(\"The given value is small\") \n",
    "    except valueTooLargeError:\n",
    "        print(\"The value is large\")\n",
    "print(\"you guessed it right\")\n",
    "            \n",
    "        \n",
    "    "
   ]
  },
  {
   "cell_type": "code",
   "execution_count": 8,
   "metadata": {},
   "outputs": [
    {
     "name": "stdout",
     "output_type": "stream",
     "text": [
      "enter first number:3\n",
      "enter second number:j\n",
      "division by Value error occured\n"
     ]
    }
   ],
   "source": [
    "#2.Handle multiple exception ZeroDivisionError,valueError\n",
    "try:\n",
    "    a=int(input(\"enter first number:\"))#to enter first number\n",
    "    b=int(input(\"enter second number:\"))#to enter second number\n",
    "    result=a/b #to calculate division and store in result\n",
    "    print(\"Result=\",result) #print result\n",
    "except ZeroDivisionError:\n",
    "    print(\"division by zero error occured\")\n",
    "except ValueError:\n",
    "    print(\"division by Value error occured\")\n",
    "    \n"
   ]
  },
  {
   "cell_type": "code",
   "execution_count": 5,
   "metadata": {},
   "outputs": [
    {
     "name": "stdout",
     "output_type": "stream",
     "text": [
      "[4624, 6084, 6400, 8464]\n"
     ]
    }
   ],
   "source": [
    "'''4.Generate a list of 4 digit numbers in a given range with all their \n",
    "digits even and the number is a perfect square\n",
    "'''\n",
    "import math\n",
    "l=[] #initialise a list\n",
    "for d in range(1000,10000):\n",
    "    a=math.sqrt(d) #find squareroot of 'd' and store in 'a'\n",
    "    if int(a)*int(a)==d:\n",
    "        b=d\n",
    "        while(b!=0):\n",
    "            if(b%10)%2==0:\n",
    "                b=int(b/10)\n",
    "            else:\n",
    "                break;\n",
    "        else:\n",
    "            l.append(d)\n",
    "print(l)\n",
    "    \n",
    "\n"
   ]
  },
  {
   "cell_type": "code",
   "execution_count": 7,
   "metadata": {
    "scrolled": true
   },
   "outputs": [
    {
     "name": "stdout",
     "output_type": "stream",
     "text": [
      "enter a string:playing\n",
      "playingly\n"
     ]
    }
   ],
   "source": [
    "#5.Add 'ing' at the end of the given string if it already ends with 'ing' then add 'ly'\n",
    "str1=input(\"enter a string:\")#enter a string\n",
    "#add 'ly' if the end of string is'ing'\n",
    "if str1[-3:]==\"ing\":\n",
    "    s2=str1+\"ly\"\n",
    "    #adding \"ing\" if the string already ends with 'ing'\n",
    "else:\n",
    "    s2=str1+\"ing\"\n",
    "print(s2)    \n",
    "\n",
    "\n",
    "    "
   ]
  },
  {
   "cell_type": "code",
   "execution_count": 6,
   "metadata": {},
   "outputs": [
    {
     "name": "stdout",
     "output_type": "stream",
     "text": [
      "col1,col3,col2,sum\n",
      "2,4,3,9\n",
      "5,6,4,15\n",
      "3,8,6,17\n",
      "\n"
     ]
    }
   ],
   "source": [
    "'''6.open a csv file which contains three columns of numbers.write out the data to a new csv file\n",
    "and adding a fourth column which contains the sum of the first three'''\n",
    "\n",
    "import csv\n",
    "\n",
    "data=[] #initialise a list\n",
    "with open('testt.csv','r')as file: #open csv file in read mode\n",
    "    reader=csv.reader(file) #read lines\n",
    "    index=0 #set index as 0\n",
    "    for row in reader:\n",
    "        a=[] #initialiose a list named 'a'\n",
    "        if(index!=0): \n",
    "            a=[row[0],row[2],row[1],int(row[0])+int(row[2])+int(row[1])]\n",
    "        else:\n",
    "            a=[row[0],row[2],row[1],'sum']\n",
    "        data.append(a)\n",
    "        index+=1\n",
    "with open('test_swapped.csv','w')as file:\n",
    "     writer=csv.writer(file)\n",
    "     writer.writerows(data)\n",
    "with open('test_swapped.csv','r')as file:\n",
    "     print(file.read())\n",
    "        \n",
    "    \n",
    "\n"
   ]
  },
  {
   "cell_type": "code",
   "execution_count": null,
   "metadata": {
    "collapsed": true
   },
   "outputs": [],
   "source": []
  },
  {
   "cell_type": "code",
   "execution_count": null,
   "metadata": {
    "collapsed": true
   },
   "outputs": [],
   "source": []
  }
 ],
 "metadata": {
  "kernelspec": {
   "display_name": "Python 3",
   "language": "python",
   "name": "python3"
  },
  "language_info": {
   "codemirror_mode": {
    "name": "ipython",
    "version": 3
   },
   "file_extension": ".py",
   "mimetype": "text/x-python",
   "name": "python",
   "nbconvert_exporter": "python",
   "pygments_lexer": "ipython3",
   "version": "3.6.3"
  }
 },
 "nbformat": 4,
 "nbformat_minor": 2
}
