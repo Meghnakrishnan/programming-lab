{
 "cells": [
  {
   "cell_type": "code",
   "execution_count": 25,
   "metadata": {},
   "outputs": [
    {
     "name": "stdout",
     "output_type": "stream",
     "text": [
      "50.24\n",
      "None\n",
      "8\n",
      "None\n",
      "52\n",
      "18\n",
      "200.96\n",
      "267.94666666666666\n"
     ]
    }
   ],
   "source": [
    "''' Create a package graphics with modules rectangle, \n",
    "circle and sub- package 3D-graphics with modules cuboid and sphere. \n",
    "Include methods to find area and perimeter of respective figures in each module. \n",
    "Write programs that finds area and perimeter of figures by different importing statements. \n",
    "(Include selective import of modules and import * statements)'''\n",
    "\n",
    "import graphics  #importing graphics\n",
    "from graphics import circle,rectangle  #imprt circle,rectangle from graphics\n",
    "#import cuboid,sphere from subpackage Dgraphics in package graphicd\n",
    "from graphics.Dgraphics import cuboid,sphere \n",
    "from graphics.circle import*\n",
    "\n",
    "print(circle.area(4))\n",
    "print(circle.per(6))\n",
    "print(rectangle.area(4,2))\n",
    "print(rectangle.per(4,2))\n",
    "print(cuboid.area(4,2,3))\n",
    "print(cuboid.per(4,2,3))\n",
    "print(sphere.area(4))\n",
    "print(sphere.per(4))"
   ]
  },
  {
   "cell_type": "code",
   "execution_count": null,
   "metadata": {},
   "outputs": [],
   "source": []
  }
 ],
 "metadata": {
  "kernelspec": {
   "display_name": "Python 3",
   "language": "python",
   "name": "python3"
  },
  "language_info": {
   "codemirror_mode": {
    "name": "ipython",
    "version": 3
   },
   "file_extension": ".py",
   "mimetype": "text/x-python",
   "name": "python",
   "nbconvert_exporter": "python",
   "pygments_lexer": "ipython3",
   "version": "3.8.5"
  }
 },
 "nbformat": 4,
 "nbformat_minor": 4
}
