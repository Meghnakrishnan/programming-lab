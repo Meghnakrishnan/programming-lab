{
 "cells": [
  {
   "cell_type": "code",
   "execution_count": 4,
   "metadata": {},
   "outputs": [
    {
     "name": "stdout",
     "output_type": "stream",
     "text": [
      "the bus\n",
      "\n"
     ]
    }
   ],
   "source": [
    "#create a file test.txt retrive all lines that contains 'the'\n",
    "import re\n",
    "l=re.compile('the')\n",
    "f=open('test.txt','r')\n",
    "lines=f.readlines()\n",
    "for line in lines:\n",
    "    if(l.search(line)):\n",
    "        print(line)"
   ]
  },
  {
   "cell_type": "code",
   "execution_count": 5,
   "metadata": {},
   "outputs": [
    {
     "name": "stdout",
     "output_type": "stream",
     "text": [
      "the bus\n",
      "\n",
      "THE banana\n"
     ]
    }
   ],
   "source": [
    "#retrive all lines that contains 'the' with lower case and uppercase letters\n",
    "import re\n",
    "l=re.compile('the|THE')\n",
    "f=open('test.txt','r')\n",
    "lines=f.readlines()\n",
    "for line in lines:\n",
    "    if(l.search(line)):\n",
    "        print(line)"
   ]
  },
  {
   "cell_type": "code",
   "execution_count": 8,
   "metadata": {},
   "outputs": [
    {
     "name": "stdout",
     "output_type": "stream",
     "text": [
      "he will come soon\n"
     ]
    }
   ],
   "source": [
    "#retrive lines that have two consicutive 'o's \n",
    "import re\n",
    "l=re.compile('oo')\n",
    "f=open('test.txt','r')\n",
    "lines=f.readlines()\n",
    "for line in lines:\n",
    "    if(l.search(line)):\n",
    "        print(line)"
   ]
  },
  {
   "cell_type": "code",
   "execution_count": 9,
   "metadata": {},
   "outputs": [
    {
     "name": "stdout",
     "output_type": "stream",
     "text": [
      "she is pretty\n",
      "\n"
     ]
    }
   ],
   "source": [
    "#retrive lines that contain a 3letter string consisting of 's' then any character 'e' such as 'she'\n",
    "import re\n",
    "l=re.compile('s.e')\n",
    "f=open('test.txt','r')\n",
    "lines=f.readlines()\n",
    "for line in lines:\n",
    "    if(l.search(line)):\n",
    "        print(line)"
   ]
  },
  {
   "cell_type": "code",
   "execution_count": 10,
   "metadata": {},
   "outputs": [
    {
     "name": "stdout",
     "output_type": "stream",
     "text": [
      "she is pretty\n",
      "\n",
      "blue sea\n",
      "\n"
     ]
    }
   ],
   "source": [
    "#retrive lines with 3 letter word that starts with 's' and ends with 'e'\n",
    "import re\n",
    "l=re.compile('s\\w*e')\n",
    "f=open('test.txt','r')\n",
    "lines=f.readlines()\n",
    "for line in lines:\n",
    "    if(l.search(line)):\n",
    "        print(line)"
   ]
  },
  {
   "cell_type": "code",
   "execution_count": 11,
   "metadata": {},
   "outputs": [
    {
     "name": "stdout",
     "output_type": "stream",
     "text": [
      "an apple\n",
      "\n"
     ]
    }
   ],
   "source": [
    "#retrive lines that start with 'a'\n",
    "import re\n",
    "l=re.compile('^a')\n",
    "f=open('test.txt','r')\n",
    "lines=f.readlines()\n",
    "for line in lines:\n",
    "    if(l.search(line)):\n",
    "        print(line)"
   ]
  },
  {
   "cell_type": "code",
   "execution_count": 13,
   "metadata": {},
   "outputs": [
    {
     "name": "stdout",
     "output_type": "stream",
     "text": [
      "abcdn\n",
      "\n"
     ]
    }
   ],
   "source": [
    "#retrive lines that start with a and ends with 'n'\n",
    "import re\n",
    "l=re.compile('^a\\w+n$')\n",
    "f=open('test.txt','r')\n",
    "lines=f.readlines()\n",
    "for line in lines:\n",
    "    if(l.search(line)):\n",
    "        print(line)"
   ]
  },
  {
   "cell_type": "code",
   "execution_count": 18,
   "metadata": {},
   "outputs": [
    {
     "name": "stdout",
     "output_type": "stream",
     "text": [
      "03.02.99\n",
      "\n",
      "3.02.99\n",
      "\n",
      "03.2.99\n"
     ]
    }
   ],
   "source": [
    "#retrive all lines with a date in th form of one or 2digits.2digits.2digits\n",
    "import re\n",
    "l=re.compile('(\\d\\d?)\\.(\\d\\d?)\\.\\d\\d$')\n",
    "f=open('test.txt','r')\n",
    "lines=f.readlines()\n",
    "for line in lines:\n",
    "    if(l.search(line)):\n",
    "        print(line)"
   ]
  },
  {
   "cell_type": "code",
   "execution_count": null,
   "metadata": {},
   "outputs": [],
   "source": []
  },
  {
   "cell_type": "code",
   "execution_count": null,
   "metadata": {},
   "outputs": [],
   "source": []
  }
 ],
 "metadata": {
  "kernelspec": {
   "display_name": "Python 3",
   "language": "python",
   "name": "python3"
  },
  "language_info": {
   "codemirror_mode": {
    "name": "ipython",
    "version": 3
   },
   "file_extension": ".py",
   "mimetype": "text/x-python",
   "name": "python",
   "nbconvert_exporter": "python",
   "pygments_lexer": "ipython3",
   "version": "3.8.5"
  }
 },
 "nbformat": 4,
 "nbformat_minor": 4
}
